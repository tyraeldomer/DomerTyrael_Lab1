{
 "cells": [
  {
   "cell_type": "markdown",
   "metadata": {},
   "source": [
    "### 191747\n",
    "### Domer\n",
    "### 2 BS ME"
   ]
  },
  {
   "cell_type": "markdown",
   "metadata": {},
   "source": [
    "### Problem 1:"
   ]
  },
  {
   "cell_type": "code",
   "execution_count": 2,
   "metadata": {},
   "outputs": [],
   "source": [
    "def dollars_to_pesos(dollaramount):\n",
    "    pesoamount = dollaramount * 50\n",
    "    return pesoamount"
   ]
  },
  {
   "cell_type": "code",
   "execution_count": 13,
   "metadata": {},
   "outputs": [
    {
     "name": "stdout",
     "output_type": "stream",
     "text": [
      "Enter the amount in US dollars: 1\n",
      "1.0 US Dollar\\(s) =  50.0 Philippine Pesos.\n"
     ]
    }
   ],
   "source": [
    "dollaramount = float(input(\"Enter the amount in US dollars: \"))\n",
    "\n",
    "pesoamount = dollars_to_pesos(dollaramount)\n",
    "\n",
    "print(dollaramount,\"US Dollar\\(s) = \",pesoamount,\"Philippine Pesos.\")"
   ]
  },
  {
   "cell_type": "markdown",
   "metadata": {},
   "source": [
    "### Problem 2:"
   ]
  },
  {
   "cell_type": "code",
   "execution_count": 4,
   "metadata": {},
   "outputs": [],
   "source": [
    "def sum_value(a,b):\n",
    "    sumvalue = a + b\n",
    "    return sumvalue\n",
    "\n",
    "def difference_value(a,b):\n",
    "    diffvalue = a - b\n",
    "    return diffvalue\n",
    "\n",
    "def product_value(a,b):\n",
    "    prodvalue = a * b\n",
    "    return prodvalue\n",
    "\n",
    "def quotient_value(a,b):\n",
    "    quotientvalue = a // b\n",
    "    return quotientvalue\n",
    "\n",
    "def remainder_value(a,b):\n",
    "    remaindervalue = a % b\n",
    "    return remaindervalue"
   ]
  },
  {
   "cell_type": "code",
   "execution_count": 12,
   "metadata": {},
   "outputs": [
    {
     "name": "stdout",
     "output_type": "stream",
     "text": [
      "Enter first integer: 55\n",
      "Enter second integer: 3\n",
      "58\n",
      "52\n",
      "165\n",
      "18\n",
      "1\n"
     ]
    }
   ],
   "source": [
    "a = int(input(\"Enter first integer: \"))\n",
    "b = int(input(\"Enter second integer: \"))\n",
    "\n",
    "\n",
    "sumvalue = sum_value(a,b)\n",
    "diffvalue = difference_value(a,b)\n",
    "prodvalue = product_value(a,b)\n",
    "quotientvalue = quotient_value(a,b)\n",
    "remaindervalue = remainder_value(a,b)\n",
    "\n",
    "print(sumvalue)\n",
    "print(diffvalue)\n",
    "print(prodvalue)\n",
    "print(quotientvalue)\n",
    "print(remaindervalue)"
   ]
  },
  {
   "cell_type": "markdown",
   "metadata": {},
   "source": [
    "### Problem 3:"
   ]
  },
  {
   "cell_type": "code",
   "execution_count": 6,
   "metadata": {},
   "outputs": [],
   "source": [
    "def convert_cm_to_m(cmheight):\n",
    "    height_meters = cmheight / 100\n",
    "    return height_meters\n",
    "\n",
    "def compute_bmi(weight,height_meters):\n",
    "    bmi = weight / (height_meters ** 2)\n",
    "    return bmi"
   ]
  },
  {
   "cell_type": "code",
   "execution_count": 11,
   "metadata": {},
   "outputs": [
    {
     "name": "stdout",
     "output_type": "stream",
     "text": [
      "Enter kg: 65\n",
      "Enter cm: 180\n",
      "BMI: 20.061728395061728\n"
     ]
    }
   ],
   "source": [
    "weight = float(input(\"Enter kg: \"))\n",
    "cmheight = float(input(\"Enter cm: \"))\n",
    "\n",
    "height_meters = convert_cm_to_m(cmheight)\n",
    "bmi = compute_bmi(weight,height_meters)\n",
    "\n",
    "print(\"BMI:\",bmi)"
   ]
  },
  {
   "cell_type": "code",
   "execution_count": null,
   "metadata": {},
   "outputs": [],
   "source": []
  }
 ],
 "metadata": {
  "kernelspec": {
   "display_name": "Python 3",
   "language": "python",
   "name": "python3"
  },
  "language_info": {
   "codemirror_mode": {
    "name": "ipython",
    "version": 3
   },
   "file_extension": ".py",
   "mimetype": "text/x-python",
   "name": "python",
   "nbconvert_exporter": "python",
   "pygments_lexer": "ipython3",
   "version": "3.7.6"
  }
 },
 "nbformat": 4,
 "nbformat_minor": 4
}
